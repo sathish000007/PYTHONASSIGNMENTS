{
 "cells": [
  {
   "cell_type": "code",
   "execution_count": null,
   "id": "9350500c-1d80-49ef-8d54-b7a483600bde",
   "metadata": {},
   "outputs": [],
   "source": [
    "                                         ## PYTHON ASSIGNMENT 5"
   ]
  },
  {
   "cell_type": "code",
   "execution_count": null,
   "id": "c637e386-37bc-44a5-9e10-3ba9a6dcdf73",
   "metadata": {},
   "outputs": [],
   "source": [
    "1. What does an empty dictionarys code look like?\n",
    "ANS:\n",
    "    In Python, an empty dictionary is represented by a pair of curly braces `{}`. Here's an example of the code \n",
    "    for creating an empty dictionary:\n",
    "\n",
    "```python\n",
    "my_dict = {}\n",
    "```\n",
    "\n",
    "You can also create an empty dictionary using the `dict()` constructor function, like this:\n",
    "\n",
    "```python\n",
    "my_dict = dict()\n",
    "```\n",
    "\n",
    "Both of these examples create an empty dictionary named `my_dict`.\n",
    "    "
   ]
  },
  {
   "cell_type": "code",
   "execution_count": null,
   "id": "f4d363db-4383-4a7d-8f65-60f0fba89a83",
   "metadata": {},
   "outputs": [],
   "source": [
    "2. What is the value of a dictionary value with the key foo and the value 42?\n",
    "ANS:\n",
    "    The value of a dictionary value with the key `'foo'` and the value `42` would simply be `42`.\n",
    "    "
   ]
  },
  {
   "cell_type": "code",
   "execution_count": null,
   "id": "afa14cc0-d470-495a-8c93-adde10c6ef60",
   "metadata": {},
   "outputs": [],
   "source": [
    "3. What is the most significant distinction between a dictionary and a list?\n",
    "ANS:\n",
    "    In Python, the most significant distinction between a dictionary and a list is how they store and access data:\n",
    "\n",
    "1. Structure: A list is an ordered collection of items, while a dictionary is an unordered collection of key-value\n",
    "pairs. In a list, elements are accessed by their index, which represents their position in the list. In contrast, \n",
    "dictionary values are accessed by their associated unique keys.\n",
    "\n",
    "2. Accessing Elements: In a list, elements are accessed using integer indices. For example, `my_list[0]` would \n",
    "access the first element of the list. In a dictionary, values are accessed by their keys. For example, \n",
    "`my_dict['key']` would access the value associated with the key `'key'`.\n",
    "\n",
    "3. Mutable vs. Immutable: Lists are mutable, which means you can modify, add, or remove elements from a list.\n",
    "Dictionaries are also mutable, allowing you to modify the values associated with existing keys or add\n",
    "new key-value pairs.\n",
    "\n",
    "Here's an example that demonstrates these differences:\n",
    "\n",
    "```python\n",
    "my_list = [1, 2, 3, 4, 5]\n",
    "print(my_list[0])  # Output: 1\n",
    "\n",
    "my_dict = {'key1': 'value1', 'key2': 'value2', 'key3': 'value3'}\n",
    "print(my_dict['key2'])  # Output: value2\n",
    "```\n",
    "\n",
    "In this example, `my_list[0]` accesses the first element of the list, while `my_dict['key2']` accesses the \n",
    "value associated with the key `'key2'` in the dictionary."
   ]
  },
  {
   "cell_type": "code",
   "execution_count": null,
   "id": "62b9bdc5-1a4b-4e4d-b953-592c1610d93a",
   "metadata": {},
   "outputs": [],
   "source": [
    "4. What happens if you try to access spam(Foo&) if spam is {bar: 100}?\n",
    "\n",
    "ANS:\n",
    "    If you try to access `spam['foo']` when `spam` is `{ 'bar': 100 }`, you will encounter a `KeyError`.\n",
    "    The reason is that the dictionary `spam` does not have a key `'foo'` in it. \n",
    "\n",
    "In Python, when you try to access a key that doesn't exist in a dictionary using the square bracket \n",
    "notation (`[]`), a `KeyError` is raised. This error indicates that the key you're trying to access is not \n",
    "present in the dictionary. In this case, `spam` only has the key `'bar'`, so attempting to access `'foo'` \n",
    "will resultin a `KeyError`."
   ]
  },
  {
   "cell_type": "code",
   "execution_count": null,
   "id": "9956fa7e-e2b1-46a5-811f-f486d5d0aba7",
   "metadata": {},
   "outputs": [],
   "source": [
    "5. If a dictionary is stored in spam, what is the difference between the expressions cat in spam and\n",
    "cat in spam.keys()?\n",
    "\n",
    "ANS:\n",
    "    In Python, if a dictionary is stored in the variable `spam`, the expressions `'cat' in spam` and `'cat' \n",
    "    in spam.keys()` have slightly different behaviors:\n",
    "\n",
    "1. `'cat' in spam`: This expression checks whether the key `'cat'` exists in the dictionary `spam`. It returns \n",
    "`True` if `'cat'` is a key in `spam`, and `False` otherwise. This is the standard way to check for the presence \n",
    "of a key in a dictionary.\n",
    "\n",
    "2. `'cat' in spam.keys()`: This expression also checks whether the key `'cat'` exists in the dictionary `spam`,\n",
    "but with a slight difference. `spam.keys()` returns a view object that contains all the keys in the dictionary \n",
    "`spam`. So `'cat' in spam.keys()` checks if `'cat'` is present in the keys of `spam`. The result is the same as `\n",
    "'cat' in spam`, meaning it returns `True` if `'cat'` is a key in `spam`, and `False` otherwise.\n",
    "\n",
    "In summary, both expressions `'cat' in spam` and `'cat' in spam.keys()` are equivalent and will give the same\n",
    "result. They check if the key `'cat'` is present in the dictionary `spam`."
   ]
  },
  {
   "cell_type": "code",
   "execution_count": null,
   "id": "603f8b21-5bd7-4d75-a097-6d819ec04885",
   "metadata": {},
   "outputs": [],
   "source": [
    "6. If a dictionary is stored in spam, what is the difference between the expressions cat in spam and\n",
    "catin spam.values()?\n",
    "ANS:\n",
    "\n",
    "  If a dictionary is stored in the variable `spam`, the expressions `'cat' in spam` and `'cat' in spam.values()`\n",
    "    have different meanings and behaviors:\n",
    "\n",
    "1. `'cat' in spam`: This expression checks whether the string `'cat'` is a key in the dictionary `spam`\n",
    ". It returns `True` if `'cat'` is a key in `spam`, and `False` otherwise. It is used to test the presence of \n",
    "a key in the dictionary.\n",
    "\n",
    "2. `'cat' in spam.values()`: This expression checks whether the string `'cat'` is a value in the dictionary\n",
    "`spam`. It returns `True` if `'cat'` is a value in `spam`, and `False` otherwise. It is used to test the presence\n",
    "of a value in the dictionary.\n",
    "\n",
    "To clarify, let's consider an example:\n",
    "\n",
    "```python\n",
    "spam = {'animal': 'cat', 'sound': 'meow'}\n",
    "\n",
    "'cat' in spam  # Returns False (as 'cat' is not a key)\n",
    "'cat' in spam.values()  # Returns True (as 'cat' is a value)\n",
    "```\n",
    "\n",
    "In the example above, `'cat'` is not a key in `spam`, so `'cat' in spam` evaluates to `False`. However, \n",
    "`'cat'` is a value associated with the key `'animal'`, so `'cat' in spam.values()` evaluates to `True`.\n",
    "\n",
    "To summarize, `'cat' in spam` checks if `'cat'` is a key in `spam`, while `'cat' in spam.values()` checks if \n",
    "`'cat'` is a value in `spam`."
   ]
  },
  {
   "cell_type": "code",
   "execution_count": null,
   "id": "b566dd5a-6648-445c-b2f9-7ac49981fe0b",
   "metadata": {},
   "outputs": [],
   "source": [
    "7. What is a shortcut for the following code?\n",
    "if colornot in spam:\n",
    "spam[color] = black\n",
    "\n",
    "ANS:\n",
    "    A shortcut for the given code is to use the `dict.setdefault()` method. The `setdefault()` method allows you to\n",
    "    set a default value for a key in a dictionary only if the key does not already exist. Here's the equivalent \n",
    "    shortcut code:\n",
    "\n",
    "```python\n",
    "spam.setdefault('color', 'black')\n",
    "```\n",
    "\n",
    "The `setdefault()` method checks if the key `'color'` exists in the dictionary `spam`. If it does, it returns\n",
    "the corresponding value. If the key doesn't exist, it sets the key-value pair `'color': 'black'` in the dictionary \n",
    "and returns the default value `'black'`. Therefore, if `'color'` is not already present in `spam`, this shortcut \n",
    "code will set `'color': 'black'` as a key-value pair."
   ]
  },
  {
   "cell_type": "code",
   "execution_count": null,
   "id": "03014cf3-692c-49d6-8fb9-b135782b8973",
   "metadata": {},
   "outputs": [],
   "source": [
    "8. How do you \"pretty print\" dictionary values using which module and function?\n",
    "\n",
    "ANS:\n",
    "    To \"pretty print\" dictionary values in a formatted and human-readable way, you can use the `pprint`\n",
    "    module in Python. The `pprint` module provides the `pprint()` function, which stands for \"pretty print.\"\n",
    "\n",
    "Here's an example of how you can use `pprint` to pretty print a dictionary:\n",
    "\n",
    "```python\n",
    "import pprint\n",
    "\n",
    "my_dict = {'key1': 'value1', 'key2': 'value2', 'key3': 'value3'}\n",
    "pprint.pprint(my_dict)\n",
    "```\n",
    "\n",
    "When you run the above code, it will print the dictionary `my_dict` in a well-formatted and readable manner, \n",
    "with each key-value pair on a separate line and indentation for nested elements if any.\n",
    "\n",
    "The `pprint()` function from the `pprint` module is designed to handle complex data structures, \n",
    "including dictionaries, and provides a convenient way to display them in a more visually appealing \n",
    "format for debugging or presentation purposes."
   ]
  },
  {
   "cell_type": "code",
   "execution_count": null,
   "id": "073cb28d-2d2e-4b78-8556-dac71afb3d68",
   "metadata": {},
   "outputs": [],
   "source": []
  }
 ],
 "metadata": {
  "kernelspec": {
   "display_name": "Python 3 (ipykernel)",
   "language": "python",
   "name": "python3"
  },
  "language_info": {
   "codemirror_mode": {
    "name": "ipython",
    "version": 3
   },
   "file_extension": ".py",
   "mimetype": "text/x-python",
   "name": "python",
   "nbconvert_exporter": "python",
   "pygments_lexer": "ipython3",
   "version": "3.10.6"
  }
 },
 "nbformat": 4,
 "nbformat_minor": 5
}
